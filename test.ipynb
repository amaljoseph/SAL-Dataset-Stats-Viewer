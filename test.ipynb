{
 "cells": [
  {
   "cell_type": "code",
   "execution_count": null,
   "metadata": {},
   "outputs": [
    {
     "name": "stdout",
     "output_type": "stream",
     "text": [
      "{'page_wise_results': [{'P': 0.6677, 'R': 0.8711, 'F1': 0.7559, 'gt_path': './lineTruth.txt', 'pred_path': './lineReco9.txt'}, {'P': 1.0, 'R': 1.0, 'F1': 1.0, 'gt_path': './lineTruth.txt', 'pred_path': './lineReco1.txt'}, {'P': 1.0, 'R': 1.0, 'F1': 1.0, 'gt_path': './lineTruth.txt', 'pred_path': './lineReco2.txt'}, {'P': 0.4634, 'R': 0.4653, 'F1': 0.4643, 'gt_path': './lineTruth.txt', 'pred_path': './lineReco3.txt'}, {'P': 0.6, 'R': 0.9988, 'F1': 0.7497, 'gt_path': './lineTruth.txt', 'pred_path': './lineReco4.txt'}, {'P': 0.5035, 'R': 1.0, 'F1': 0.6698, 'gt_path': './lineTruth.txt', 'pred_path': './lineReco5.txt'}, {'P': 0.8571, 'R': 1.0, 'F1': 0.9231, 'gt_path': './lineTruth.txt', 'pred_path': './lineReco6.txt'}, {'P': 1.0, 'R': 0.5, 'F1': 0.6667, 'gt_path': './lineTruth.txt', 'pred_path': './lineReco7.txt'}, {'P': 1.0, 'R': 0.5852, 'F1': 0.7383, 'gt_path': './lineTruth.txt', 'pred_path': './lineReco8.txt'}], 'avg_p': 0.788, 'avg_r': 0.8245, 'avg_f1': 0.8058}\n"
     ]
    }
   ],
   "source": [
    "def parse_transkribus_evaluation(report):\n",
    "    lines = report.splitlines()\n",
    "    \n",
    "    page_wise_results = []\n",
    "    avg_p, avg_r, avg_f1 = None, None, None\n",
    "\n",
    "    for line in lines:\n",
    "        if line.startswith(\"    \") and \",\" in line:\n",
    "            values = line.split(\",\")\n",
    "            page_wise_results.append({\n",
    "                'P': float(values[0].strip()),\n",
    "                'R': float(values[1].strip()),\n",
    "                'F1': float(values[2].strip()),\n",
    "                'gt_path': values[3].strip(),\n",
    "                'pred_path': values[4].strip()\n",
    "            })\n",
    "        elif line.startswith(\"Avg (over pages) P value:\"):\n",
    "            avg_p = float(line.split(\":\")[-1].strip())\n",
    "        elif line.startswith(\"Avg (over pages) R value:\"):\n",
    "            avg_r = float(line.split(\":\")[-1].strip())\n",
    "        elif line.startswith(\"Resulting F_1 value:\"):\n",
    "            avg_f1 = float(line.split(\":\")[-1].strip())\n",
    "\n",
    "    return {\n",
    "        'page_wise_results': page_wise_results,\n",
    "        'avg_p': avg_p,\n",
    "        'avg_r': avg_r,\n",
    "        'avg_f1': avg_f1\n",
    "    }\n",
    "\n",
    "# Example usage with the provided text:\n",
    "report = \"\"\"---TranskribusBaseLineEvaluationScheme--- \n",
    "Evaluation performed on 2024.12.18 at 12:22:50 \n",
    "Evaluation performed for GT truth.lst\n",
    "Evaluation performed for HYPO reco.lst\n",
    "Number of pages: 9\n",
    "\n",
    "Loading protocol: \n",
    "   Everything loaded without errors.\n",
    "\n",
    "9 out of 9 GT-HYPO pairs loaded without errors and used for evaluation.\n",
    "\n",
    "Number of groundtruth lines: 54\n",
    "Number of hypothesis lines: 53\n",
    "\n",
    "Pagewise evaluation :\n",
    "#P value, #R value, #F_1 value, #TruthFileName, #HypoFileName\n",
    "    0.6677,     0.8711,     0.7559, ./lineTruth.txt, ./lineReco9.txt\n",
    "    1.0000,     1.0000,     1.0000, ./lineTruth.txt, ./lineReco1.txt\n",
    "    1.0000,     1.0000,     1.0000, ./lineTruth.txt, ./lineReco2.txt\n",
    "    0.4634,     0.4653,     0.4643, ./lineTruth.txt, ./lineReco3.txt\n",
    "    0.6000,     0.9988,     0.7497, ./lineTruth.txt, ./lineReco4.txt\n",
    "    0.5035,     1.0000,     0.6698, ./lineTruth.txt, ./lineReco5.txt\n",
    "    0.8571,     1.0000,     0.9231, ./lineTruth.txt, ./lineReco6.txt\n",
    "    1.0000,     0.5000,     0.6667, ./lineTruth.txt, ./lineReco7.txt\n",
    "    1.0000,     0.5852,     0.7383, ./lineTruth.txt, ./lineReco8.txt\n",
    "\n",
    "#######Final Evaluation#######\n",
    "\n",
    "Avg (over pages) P value: 0.788\n",
    "Avg (over pages) R value: 0.8245\n",
    "Resulting F_1 value: 0.8058\n",
    "\"\"\"\n",
    "\n",
    "metrics = parse_transkribus_evaluation(report)\n",
    "print(metrics)\n"
   ]
  },
  {
   "cell_type": "code",
   "execution_count": null,
   "metadata": {},
   "outputs": [],
   "source": [
    "metrics['']"
   ]
  },
  {
   "cell_type": "code",
   "execution_count": null,
   "metadata": {},
   "outputs": [],
   "source": []
  },
  {
   "cell_type": "code",
   "execution_count": 2,
   "metadata": {},
   "outputs": [
    {
     "name": "stdout",
     "output_type": "stream",
     "text": [
      "{'n_gt_lines': 54, 'n_pred_lines': 53, 'page_wise_results': [{'P': 0.6677, 'R': 0.8711, 'F1': 0.7559, 'gt_path': './lineTruth.txt', 'pred_path': './lineReco9.txt'}, {'P': 1.0, 'R': 1.0, 'F1': 1.0, 'gt_path': './lineTruth.txt', 'pred_path': './lineReco1.txt'}, {'P': 1.0, 'R': 1.0, 'F1': 1.0, 'gt_path': './lineTruth.txt', 'pred_path': './lineReco2.txt'}, {'P': 0.4634, 'R': 0.4653, 'F1': 0.4643, 'gt_path': './lineTruth.txt', 'pred_path': './lineReco3.txt'}, {'P': 0.6, 'R': 0.9988, 'F1': 0.7497, 'gt_path': './lineTruth.txt', 'pred_path': './lineReco4.txt'}, {'P': 0.5035, 'R': 1.0, 'F1': 0.6698, 'gt_path': './lineTruth.txt', 'pred_path': './lineReco5.txt'}, {'P': 0.8571, 'R': 1.0, 'F1': 0.9231, 'gt_path': './lineTruth.txt', 'pred_path': './lineReco6.txt'}, {'P': 1.0, 'R': 0.5, 'F1': 0.6667, 'gt_path': './lineTruth.txt', 'pred_path': './lineReco7.txt'}, {'P': 1.0, 'R': 0.5852, 'F1': 0.7383, 'gt_path': './lineTruth.txt', 'pred_path': './lineReco8.txt'}], 'avg_p': 0.788, 'avg_r': 0.8245, 'avg_f1': 0.8058}\n"
     ]
    }
   ],
   "source": [
    "report2 = \"\"\"\n",
    "---TranskribusBaseLineEvaluationScheme--- \n",
    "\n",
    "Evaluation performed on 2024.12.18 at 12:22:50 \n",
    "Evaluation performed for GT truth.lst\n",
    "Evaluation performed for HYPO reco.lst\n",
    "Number of pages: 9\n",
    "\n",
    "Loading protocol: \n",
    "   Everything loaded without errors.\n",
    "\n",
    "9 out of 9 GT-HYPO pairs loaded without errors and used for evaluation.\n",
    "\n",
    "Number of groundtruth lines: 54\n",
    "Number of hypothesis lines: 53\n",
    "\n",
    "Pagewise evaluation :\n",
    "#P value, #R value, #F_1 value, #TruthFileName, #HypoFileName\n",
    "    0.6677,     0.8711,     0.7559, ./lineTruth.txt, ./lineReco9.txt\n",
    "    1.0000,     1.0000,     1.0000, ./lineTruth.txt, ./lineReco1.txt\n",
    "    1.0000,     1.0000,     1.0000, ./lineTruth.txt, ./lineReco2.txt\n",
    "    0.4634,     0.4653,     0.4643, ./lineTruth.txt, ./lineReco3.txt\n",
    "    0.6000,     0.9988,     0.7497, ./lineTruth.txt, ./lineReco4.txt\n",
    "    0.5035,     1.0000,     0.6698, ./lineTruth.txt, ./lineReco5.txt\n",
    "    0.8571,     1.0000,     0.9231, ./lineTruth.txt, ./lineReco6.txt\n",
    "    1.0000,     0.5000,     0.6667, ./lineTruth.txt, ./lineReco7.txt\n",
    "    1.0000,     0.5852,     0.7383, ./lineTruth.txt, ./lineReco8.txt\n",
    "\n",
    "\n",
    "#######Final Evaluation#######\n",
    "\n",
    "Avg (over pages) P value: 0.788\n",
    "Avg (over pages) R value: 0.8245\n",
    "Resulting F_1 value: 0.8058\n",
    "\"\"\"\n",
    "\n",
    "metrics = parse_transkribus_evaluation(report2)\n",
    "print(metrics)"
   ]
  },
  {
   "cell_type": "code",
   "execution_count": 3,
   "metadata": {},
   "outputs": [
    {
     "data": {
      "text/plain": [
       "dict_keys(['n_gt_lines', 'n_pred_lines', 'page_wise_results', 'avg_p', 'avg_r', 'avg_f1'])"
      ]
     },
     "execution_count": 3,
     "metadata": {},
     "output_type": "execute_result"
    }
   ],
   "source": [
    "metrics.keys()"
   ]
  },
  {
   "cell_type": "code",
   "execution_count": null,
   "metadata": {},
   "outputs": [],
   "source": [
    "metrics"
   ]
  }
 ],
 "metadata": {
  "kernelspec": {
   "display_name": "amalj",
   "language": "python",
   "name": "python3"
  },
  "language_info": {
   "codemirror_mode": {
    "name": "ipython",
    "version": 3
   },
   "file_extension": ".py",
   "mimetype": "text/x-python",
   "name": "python",
   "nbconvert_exporter": "python",
   "pygments_lexer": "ipython3",
   "version": "3.7.16"
  }
 },
 "nbformat": 4,
 "nbformat_minor": 2
}
